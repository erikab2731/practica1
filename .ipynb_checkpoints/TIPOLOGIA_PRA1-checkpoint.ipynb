{
 "cells": [
  {
   "cell_type": "code",
   "execution_count": 1,
   "metadata": {},
   "outputs": [
    {
     "ename": "IndexError",
     "evalue": "list index out of range",
     "output_type": "error",
     "traceback": [
      "\u001b[1;31m---------------------------------------------------------------------------\u001b[0m",
      "\u001b[1;31mIndexError\u001b[0m                                Traceback (most recent call last)",
      "\u001b[1;32m<ipython-input-1-449af32f4c92>\u001b[0m in \u001b[0;36m<module>\u001b[1;34m\u001b[0m\n\u001b[0;32m     48\u001b[0m \u001b[1;33m\u001b[0m\u001b[0m\n\u001b[0;32m     49\u001b[0m \u001b[1;32mfor\u001b[0m \u001b[0mi\u001b[0m \u001b[1;32min\u001b[0m \u001b[0mrange\u001b[0m\u001b[1;33m(\u001b[0m\u001b[1;36m15\u001b[0m\u001b[1;33m)\u001b[0m\u001b[1;33m:\u001b[0m\u001b[1;33m\u001b[0m\u001b[1;33m\u001b[0m\u001b[0m\n\u001b[1;32m---> 50\u001b[1;33m     \u001b[0mdt\u001b[0m \u001b[1;33m=\u001b[0m \u001b[0mobjeto_explorar\u001b[0m\u001b[1;33m[\u001b[0m\u001b[1;36m8\u001b[0m\u001b[1;33m*\u001b[0m\u001b[0mi\u001b[0m\u001b[1;33m]\u001b[0m\u001b[1;33m.\u001b[0m\u001b[0mtext\u001b[0m\u001b[1;33m\u001b[0m\u001b[1;33m\u001b[0m\u001b[0m\n\u001b[0m\u001b[0;32m     51\u001b[0m     \u001b[0mtt\u001b[0m \u001b[1;33m=\u001b[0m \u001b[0mobjeto_explorar\u001b[0m\u001b[1;33m[\u001b[0m\u001b[1;36m8\u001b[0m\u001b[1;33m*\u001b[0m\u001b[0mi\u001b[0m\u001b[1;33m+\u001b[0m\u001b[1;36m4\u001b[0m\u001b[1;33m]\u001b[0m\u001b[1;33m.\u001b[0m\u001b[0mtext\u001b[0m\u001b[1;33m\u001b[0m\u001b[1;33m\u001b[0m\u001b[0m\n\u001b[0;32m     52\u001b[0m     \u001b[0mty\u001b[0m \u001b[1;33m=\u001b[0m \u001b[0mobjeto_explorar\u001b[0m\u001b[1;33m[\u001b[0m\u001b[1;36m8\u001b[0m\u001b[1;33m*\u001b[0m\u001b[0mi\u001b[0m\u001b[1;33m+\u001b[0m\u001b[1;36m5\u001b[0m\u001b[1;33m]\u001b[0m\u001b[1;33m.\u001b[0m\u001b[0mtext\u001b[0m\u001b[1;33m\u001b[0m\u001b[1;33m\u001b[0m\u001b[0m\n",
      "\u001b[1;31mIndexError\u001b[0m: list index out of range"
     ]
    }
   ],
   "source": [
    "# Se importan las librerías\n",
    "from bs4 import BeautifulSoup\n",
    "# import requests\n",
    "# import time\n",
    "# import os\n",
    "from selenium import webdriver\n",
    "from selenium.webdriver.support.ui import WebDriverWait\n",
    "from selenium.webdriver.support import expected_conditions as EC\n",
    "from selenium.webdriver.common.by import By\n",
    "from selenium.common.exceptions import TimeoutException\n",
    "import pandas as pd\n",
    "import datetime\n",
    "\n",
    "# Iniciamos el webdriver de chrome y seteamos la página web que vamos a explorar y obtener información\n",
    "driver = webdriver.Chrome()\n",
    "driver.get('https://www.exploit-db.com/')\n",
    "\n",
    "###############################################################################################################\n",
    "# Importante. Falta la paginación. Este avance solo es para la primera hoja\n",
    "###############################################################################################################\n",
    "# Falta también la regla de carga (un while para las fechas solo de hoy o bien de un id que debemos generar)\n",
    "###############################################################################################################\n",
    "\n",
    "# Generamos una regla de espera (15 seg.) para que la página no nos reconozca como robots\n",
    "# Apuntamos al objeto cuyo id  = 'exploits-table', que es donde está la información que queremos obtener\n",
    "\n",
    "try:\n",
    "    WebDriverWait(driver, 15).until(EC.presence_of_element_located((By.ID, 'exploits-table')))\n",
    "except TimeoutException:\n",
    "    pass \n",
    "\n",
    "# Una vez obtenido el objeto, lo guardamos para poder iterar.\n",
    "paginas = driver.find_element_by_id('exploits-table').get_attribute('innerHTML')\n",
    "\n",
    "# Pasamos el objeto a html y buscamos los atributos que queremos obtener\n",
    "objeto_explorar =BeautifulSoup(paginas, 'html.parser').find_all('td')\n",
    "\n",
    "##################################################################################################################\n",
    "# Falta agregarle los campos de verificación, aplicación vulnerable y quizá la descarga\n",
    "##################################################################################################################\n",
    "\n",
    "# Creamos las listas que serán las columnas del dataframe a almacenar\n",
    "date_ws = []\n",
    "title_ws = []\n",
    "type_ws = []\n",
    "platform_ws = []\n",
    "author_ws = []\n",
    "\n",
    "for i in range(15):\n",
    "    dt = objeto_explorar[8*i].text\n",
    "    tt = objeto_explorar[8*i+4].text\n",
    "    ty = objeto_explorar[8*i+5].text\n",
    "    pt = objeto_explorar[8*i+6].text\n",
    "    at = objeto_explorar[8*i+7].text\n",
    "    date_ws.append(dt)\n",
    "    title_ws.append(tt)\n",
    "    type_ws.append(ty)\n",
    "    platform_ws.append(pt)\n",
    "    author_ws.append(at)\n",
    "    \n",
    "tabla_final = pd.DataFrame({'Date':date_ws,'Title':title_ws,'Type':type_ws,'Platform':platform_ws,'Author':author_ws})\n",
    "\n",
    "# Establecemos la fecha para generar el nombre del archivo\n",
    "dt_crrt = datetime.datetime.now()\n",
    "\n",
    "# Guardamos el archivo en un csv\n",
    "tabla_final.to_csv('BD_XP_{}_{}_{}_{}_{}_{}.csv'.format(dt_crrt.year,dt_crrt.month,dt_crrt.day,dt_crrt.hour,dt_crrt.minute,dt_crrt.second), index= False,encoding='utf-8-sig')"
   ]
  },
  {
   "cell_type": "code",
   "execution_count": 2,
   "metadata": {},
   "outputs": [
    {
     "ename": "NameError",
     "evalue": "name 'objeto_explorar' is not defined",
     "output_type": "error",
     "traceback": [
      "\u001b[1;31m---------------------------------------------------------------------------\u001b[0m",
      "\u001b[1;31mNameError\u001b[0m                                 Traceback (most recent call last)",
      "\u001b[1;32m<ipython-input-2-0e4d8cc7643e>\u001b[0m in \u001b[0;36m<module>\u001b[1;34m\u001b[0m\n\u001b[1;32m----> 1\u001b[1;33m \u001b[0mobjeto_explorar\u001b[0m\u001b[1;33m\u001b[0m\u001b[1;33m\u001b[0m\u001b[0m\n\u001b[0m",
      "\u001b[1;31mNameError\u001b[0m: name 'objeto_explorar' is not defined"
     ]
    }
   ],
   "source": [
    "objeto_explorar"
   ]
  },
  {
   "cell_type": "code",
   "execution_count": null,
   "metadata": {},
   "outputs": [],
   "source": []
  }
 ],
 "metadata": {
  "kernelspec": {
   "display_name": "Python 3",
   "language": "python",
   "name": "python3"
  }
 },
 "nbformat": 4,
 "nbformat_minor": 4
}
